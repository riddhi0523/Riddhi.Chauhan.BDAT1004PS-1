{
 "cells": [
  {
   "cell_type": "markdown",
   "id": "74f09a22",
   "metadata": {},
   "source": [
    "# Question 1\n",
    "What data type is each of the following? 5 5.0 5 > 1 '5' 5 2 '5' 2 '5' + '2' 5 / 25 5 % 2 {5, 2, 1} 5 == 3 Pi (the number)"
   ]
  },
  {
   "cell_type": "markdown",
   "id": "00cae680",
   "metadata": {},
   "source": [
    "5         Integer\n",
    "\n",
    "5.0       Float/Double\n",
    "\n",
    "5 > 1     Boolean\n",
    "\n",
    "'5'       String \n",
    "\n",
    "5 * 2     Integer \n",
    "\n",
    "'5' * 2   String\n",
    "\n",
    "'5' + '2' String\n",
    "\n",
    "5 / 2     Float\n",
    "\n",
    "5 % 2     Integer\n",
    "\n",
    "{5, 2, 1} Integer array (same elements)\n",
    "\n",
    "5 == 3    Boolean \n",
    "\n",
    "Pi (the number) Double"
   ]
  },
  {
   "cell_type": "markdown",
   "id": "bf871fa2",
   "metadata": {},
   "source": [
    "# Question 2\n",
    "\n",
    "Write (and evaluate) C# expressions that answer these questions:"
   ]
  },
  {
   "cell_type": "markdown",
   "id": "a1db8109",
   "metadata": {},
   "source": [
    "A. How many letters are there in 'Supercalifragilisticexpialidocious'?"
   ]
  },
  {
   "cell_type": "code",
   "execution_count": null,
   "id": "b8738e28",
   "metadata": {},
   "outputs": [
    {
     "name": "stdout",
     "output_type": "stream",
     "text": [
      "Length of the given string: 34\r\n"
     ]
    }
   ],
   "source": [
    "string str= \"Supercalifragilisticexpialidocious\";\n",
    "int length= str.Length;\n",
    "Console.WriteLine(\"Length of the given string: \"+length)"
   ]
  },
  {
   "cell_type": "markdown",
   "id": "13555dcf",
   "metadata": {},
   "source": [
    "B. Does 'Supercalifragilisticexpialidocious' contain 'ice' as a substring?"
   ]
  },
  {
   "cell_type": "code",
   "execution_count": 3,
   "id": "818ab3d8",
   "metadata": {},
   "outputs": [
    {
     "name": "stdout",
     "output_type": "stream",
     "text": [
      "String    : Supercalifragilisticexpialidocious\n",
      "Sub String2: ice\n"
     ]
    }
   ],
   "source": [
    "String str = \"Supercalifragilisticexpialidocious\";\n",
    "  \n",
    "        Console.WriteLine(\"String    : \" + str);\n",
    "        // retrieve the substring from index 18 to length 3\n",
    "        Console.WriteLine(\"Sub String2: \" + str.Substring(18, 3));"
   ]
  },
  {
   "cell_type": "markdown",
   "id": "1c66d66c",
   "metadata": {},
   "source": [
    "# Question 3\n",
    "Implement function triangleArea(a,b,c) that takes as input the lengths of the 3\n",
    "sides of a triangle and returns the area of the triangle. By Heron's formula, the area\n",
    "of a triangle with side lengths a, b, and c is\n",
    "s(s - a)(s -b)(s -c)\n",
    ", where\n",
    "s = (a+b+c)/2. "
   ]
  },
  {
   "cell_type": "code",
   "execution_count": 6,
   "id": "7a582879",
   "metadata": {},
   "outputs": [
    {
     "name": "stdout",
     "output_type": "stream",
     "text": [
      "Area of Triangle : 1.7320508075688772\r\n"
     ]
    }
   ],
   "source": [
    "public static double triangleArea(int a, int b, int c) {\n",
    "    Double s = (a + b + c) / 2;\n",
    "    Double Area = Math.Sqrt(s * (s - a) *\n",
    "        (s - b) * (s - c));\n",
    "    return Area;\n",
    "}\n",
    "Double Area = triangleArea(2, 2, 2);\n",
    "Console.WriteLine($\"Area of Triangle : {Area}\")"
   ]
  },
  {
   "cell_type": "markdown",
   "id": "6b2bc493",
   "metadata": {},
   "source": [
    "# Question 5\n",
    "\n",
    "a. Write a function inside(x,y,x1,y1,x2,y2) that returns True or False\n",
    "depending on whether the point (x,y) lies in the rectangle with lower left\n",
    "corner (x1,y1) and upper right corner (x2,y2).\n",
    ">>> inside(1,1,0,0,2,3)\n",
    "\n",
    "True\n",
    "\n",
    ">>> inside(-1,-1,0,0,2,3)\n",
    "\n",
    "False\n",
    "\n",
    "b. Use function inside() from part a. to write an expression that tests whether\n",
    "the point (1,1) lies in both of the following rectangles: one with lower left\n",
    "corner (0.3, 0.5) and upper right corner (1.1, 0.7) and t"
   ]
  },
  {
   "cell_type": "code",
   "execution_count": 8,
   "id": "bc67d80f",
   "metadata": {},
   "outputs": [
    {
     "name": "stdout",
     "output_type": "stream",
     "text": [
      "True"
     ]
    }
   ],
   "source": [
    "// function to find if given\n",
    "// point lies inside a given\n",
    "// rectangle or not.\n",
    "static bool FindPoint(int x1, int y1, int x2,\n",
    "                      int y2, int x, int y)\n",
    "{\n",
    "if (x > x1 && x < x2 &&\n",
    "    y > y1 && y < y2)\n",
    "    return true;\n",
    " \n",
    "return false;\n",
    "}\n",
    " \n",
    "// Driver code public static void Main()\n",
    "{\n",
    "     \n",
    "    // bottom-left and top-right\n",
    "    // corners of rectangle\n",
    "    int x1 = 0, y1 = 0,\n",
    "        x2 = 2, y2 = 3;\n",
    " \n",
    "    // given point\n",
    "    int x = 1, y = 1;\n",
    " \n",
    "    // function call\n",
    "    if (FindPoint(x1, y1, x2, y2, x, y))\n",
    "        Console.Write(\"True\");\n",
    "    else\n",
    "        Console.Write(\"False\");\n",
    "}"
   ]
  },
  {
   "cell_type": "code",
   "execution_count": 9,
   "id": "aebdec5c",
   "metadata": {},
   "outputs": [
    {
     "name": "stdout",
     "output_type": "stream",
     "text": [
      "True"
     ]
    }
   ],
   "source": [
    "\n",
    "// function to find if given\n",
    "// point lies inside a given\n",
    "// rectangle or not.\n",
    "static bool FindPoint(int x1, int y1, int x2,\n",
    "                      int y2, int x, int y)\n",
    "{\n",
    "if (x > x1 && x < x2 &&\n",
    "    y > y1 && y < y2)\n",
    "    return true;\n",
    " \n",
    "return false;\n",
    "}\n",
    " \n",
    "// Driver code public static void Main()\n",
    "{\n",
    "     \n",
    "    // bottom-left and top-right\n",
    "    // corners of rectangle\n",
    "    int x1 = 0, y1 = 0,\n",
    "        x2 = 2, y2 = 3;\n",
    " \n",
    "    // given point\n",
    "    int x = 1, y = 1;\n",
    " \n",
    "    // function call\n",
    "    if (FindPoint(x1, y1, x2, y2, x, y))\n",
    "        Console.Write(\"True\");\n",
    "    else\n",
    "        Console.Write(\"False\");\n",
    "}"
   ]
  },
  {
   "cell_type": "code",
   "execution_count": null,
   "id": "4a3685fd",
   "metadata": {},
   "outputs": [
    {
     "name": "stdout",
     "output_type": "stream",
     "text": [
      "FalseTrue"
     ]
    }
   ],
   "source": [
    "static bool inside(double a, double b, double a1, double b1, double a2, double b2)\n",
    "    {\n",
    "        if (a > a1 && a < a2 && b > b1 && b < b2)\n",
    "        \n",
    "            return true;\n",
    "        else\n",
    "            return false;\n",
    "    }\n",
    " \n",
    "\n",
    "bool p1 = inside(1,1,0.3,0.5,1.1,0.7);\n",
    "bool p2 = inside(1,1,0.5,0.2,1.1,2);\n",
    "        \n",
    "Console.Write(p1);\n",
    "Console.Write(p2);"
   ]
  }
 ],
 "metadata": {
  "kernelspec": {
   "display_name": ".NET (C#)",
   "language": "C#",
   "name": ".net-csharp"
  },
  "language_info": {
   "file_extension": ".cs",
   "mimetype": "text/x-csharp",
   "name": "C#",
   "pygments_lexer": "csharp",
   "version": "8.0"
  }
 },
 "nbformat": 4,
 "nbformat_minor": 5
}
